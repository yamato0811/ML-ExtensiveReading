{
 "cells": [
  {
   "cell_type": "markdown",
   "metadata": {},
   "source": [
    "## PDFのテキストデータを抽出\n",
    "- テキストが自動認識のため，不要な部分を削除する必要あり"
   ]
  },
  {
   "cell_type": "code",
   "execution_count": 6,
   "metadata": {},
   "outputs": [],
   "source": [
    "from pdfminer.pdfinterp import PDFResourceManager, PDFPageInterpreter\n",
    "from pdfminer.converter import TextConverter\n",
    "from pdfminer.layout import LAParams\n",
    "from pdfminer.pdfpage import PDFPage\n",
    "\n",
    "input_path = 'JuppEleanor_2005_SkiRace_SkiRace.pdf'\n",
    "output_path = 'pdfToTextData/result.txt'\n",
    "\n",
    "manager = PDFResourceManager()\n",
    "\n",
    "with open(output_path, \"wb\") as output:\n",
    "    with open(input_path, 'rb') as input:\n",
    "        with TextConverter(manager, output, codec='utf-8', laparams=LAParams()) as conv:\n",
    "            interpreter = PDFPageInterpreter(manager, conv)\n",
    "            for page in PDFPage.get_pages(input):\n",
    "                interpreter.process_page(page)"
   ]
  }
 ],
 "metadata": {
  "kernelspec": {
   "display_name": "Python 3",
   "language": "python",
   "name": "python3"
  },
  "language_info": {
   "codemirror_mode": {
    "name": "ipython",
    "version": 3
   },
   "file_extension": ".py",
   "mimetype": "text/x-python",
   "name": "python",
   "nbconvert_exporter": "python",
   "pygments_lexer": "ipython3",
   "version": "3.8.3"
  }
 },
 "nbformat": 4,
 "nbformat_minor": 4
}
