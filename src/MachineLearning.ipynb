{
 "cells": [
  {
   "cell_type": "markdown",
   "metadata": {},
   "source": [
    "# モジュール"
   ]
  },
  {
   "cell_type": "code",
   "execution_count": 1,
   "metadata": {},
   "outputs": [],
   "source": [
    "from polyglot.text import Text   #形態素解析\n",
    "\n",
    "from nltk.tokenize import sent_tokenize\n",
    "\n",
    "import numpy as np\n",
    "\n",
    "import re  #正規表現"
   ]
  },
  {
   "cell_type": "markdown",
   "metadata": {},
   "source": [
    "# 文章の整形"
   ]
  },
  {
   "cell_type": "code",
   "execution_count": 2,
   "metadata": {},
   "outputs": [
    {
     "name": "stdout",
     "output_type": "stream",
     "text": [
      "[['Dorothy lived in the midst of the great Kansas prairies, with Uncle Henry, who was a farmer, and Aunt Em, who was the farmer’s wife.', 'Their house was small, for the lumber to build it had to be carried by wagon many miles.', 'There were four walls, a floor and a roof, which made one room; and this room contained a rusty looking cookstove, a cupboard for the dishes, a table, three or four chairs, and the beds.', 'Uncle Henry and Aunt Em had a big bed in one corner, and Dorothy a little bed in another corner.', 'There was no garret at all, and no cellar—except a small hole dug in the ground, called a cyclone cellar, where the family could go in case one of those great whirlwinds arose, mighty enough to crush any building in its path.', 'It was reached by a trap door in the middle of the floor, from which a ladder led down into the small, dark hole.'], ['When Dorothy stood in the doorway and looked around, she could see nothing but the great gray prairie on every side.', 'Not a tree nor a house broke the broad sweep of flat country that reached to the edge of the sky in all directions.', 'The sun had baked the plowed land into a gray mass, with little cracks running through it.', 'Even the grass was not green, for the sun had burned the tops of the long blades until they were the same gray color to be seen everywhere.', 'Once the house had been painted, but the sun blistered the paint and the rains washed it away, and now the house was as dull and gray as everything else.'], ['When Aunt Em came there to live she was a young, pretty wife.', 'The sun and wind had changed her, too.', 'They had taken the sparkle from her eyes and left them a sober gray; they had taken the red from her cheeks and lips, and they were gray also.', 'She was thin and gaunt, and never smiled now.', 'When Dorothy, who was an orphan, first came to her, Aunt Em had been so startled by the child’s laughter that she would scream and press her hand upon her heart whenever Dorothy’s merry voice reached her ears; and she still looked at the little girl with wonder that she could find anything to laugh at.']]\n"
     ]
    }
   ],
   "source": [
    "text = \"\"\"\\\n",
    "Dorothy lived in the midst of the great Kansas prairies, with Uncle\n",
    "Henry, who was a farmer, and Aunt Em, who was the farmer’s wife. Their\n",
    "house was small, for the lumber to build it had to be carried by wagon\n",
    "many miles. There were four walls, a floor and a roof, which made one\n",
    "room; and this room contained a rusty looking cookstove, a cupboard for\n",
    "the dishes, a table, three or four chairs, and the beds. Uncle Henry\n",
    "and Aunt Em had a big bed in one corner, and Dorothy a little bed in\n",
    "another corner. There was no garret at all, and no cellar—except a\n",
    "small hole dug in the ground, called a cyclone cellar, where the family\n",
    "could go in case one of those great whirlwinds arose, mighty enough to\n",
    "crush any building in its path. It was reached by a trap door in the\n",
    "middle of the floor, from which a ladder led down into the small, dark\n",
    "hole.\n",
    "\n",
    "When Dorothy stood in the doorway and looked around, she could see\n",
    "nothing but the great gray prairie on every side. Not a tree nor a\n",
    "house broke the broad sweep of flat country that reached to the edge of\n",
    "the sky in all directions. The sun had baked the plowed land into a\n",
    "gray mass, with little cracks running through it. Even the grass was\n",
    "not green, for the sun had burned the tops of the long blades until\n",
    "they were the same gray color to be seen everywhere. Once the house had\n",
    "been painted, but the sun blistered the paint and the rains washed it\n",
    "away, and now the house was as dull and gray as everything else.\n",
    "\n",
    "When Aunt Em came there to live she was a young, pretty wife. The sun\n",
    "and wind had changed her, too. They had taken the sparkle from her eyes\n",
    "and left them a sober gray; they had taken the red from her cheeks and\n",
    "lips, and they were gray also. She was thin and gaunt, and never smiled\n",
    "now. When Dorothy, who was an orphan, first came to her, Aunt Em had\n",
    "been so startled by the child’s laughter that she would scream and\n",
    "press her hand upon her heart whenever Dorothy’s merry voice reached\n",
    "her ears; and she still looked at the little girl with wonder that she\n",
    "could find anything to laugh at.\\\n",
    "\"\"\"\n",
    "\n",
    "text = re.sub(r'(?<!\\n)\\n(?!\\n)', ' ', text)    #1回の改行を削除\n",
    "\n",
    "paragraph_list = text.split(\"\\n\\n\")  #段落でリストに分割\n",
    "\n",
    "pragraph_split_list = [ ]\n",
    "for paragrah in paragraph_list:\n",
    "    pragraph_split_list.append(sent_tokenize(paragrah))     #1文に分割\n",
    "\n",
    "print (pragraph_split_list)"
   ]
  },
  {
   "cell_type": "markdown",
   "metadata": {},
   "source": [
    "# 形態素解析"
   ]
  },
  {
   "cell_type": "markdown",
   "metadata": {},
   "source": [
    "### 品詞タグを数値に変換"
   ]
  },
  {
   "cell_type": "code",
   "execution_count": null,
   "metadata": {},
   "outputs": [],
   "source": []
  },
  {
   "cell_type": "code",
   "execution_count": 31,
   "metadata": {},
   "outputs": [
    {
     "name": "stdout",
     "output_type": "stream",
     "text": [
      "[[['PROPN', 'VERB', 'ADP', 'DET', 'NOUN', 'ADP', 'DET', 'ADJ', 'PROPN', 'NOUN', 'PUNCT', 'ADP', 'NOUN', 'PROPN', 'PUNCT', 'PRON', 'VERB', 'DET', 'NOUN', 'PUNCT', 'CONJ', 'PROPN', 'PROPN', 'PUNCT', 'PRON', 'VERB', 'DET', 'NUM', 'NOUN', 'PUNCT'], ['PRON', 'NOUN', 'VERB', 'ADJ', 'PUNCT', 'ADP', 'DET', 'NOUN', 'PART', 'VERB', 'PRON', 'VERB', 'PART', 'AUX', 'VERB', 'ADP', 'NOUN', 'ADJ', 'NOUN', 'PUNCT'], ['DET', 'VERB', 'NUM', 'NOUN', 'PUNCT', 'DET', 'NOUN', 'CONJ', 'DET', 'NOUN', 'PUNCT', 'DET', 'VERB', 'NUM', 'NOUN', 'PUNCT', 'CONJ', 'DET', 'NOUN', 'VERB', 'DET', 'ADJ', 'NOUN', 'NUM', 'PUNCT', 'DET', 'NOUN', 'ADP', 'DET', 'NOUN', 'PUNCT', 'DET', 'NOUN', 'PUNCT', 'NUM', 'CONJ', 'NUM', 'NOUN', 'PUNCT', 'CONJ', 'DET', 'NOUN', 'PUNCT'], ['PROPN', 'PROPN', 'CONJ', 'NOUN', 'PROPN', 'VERB', 'DET', 'ADJ', 'NOUN', 'ADP', 'NUM', 'NOUN', 'PUNCT', 'CONJ', 'PROPN', 'DET', 'ADJ', 'NOUN', 'ADP', 'DET', 'NOUN', 'PUNCT'], ['DET', 'VERB', 'DET', 'PROPN', 'ADV', 'PROPN', 'PUNCT', 'CONJ', 'DET', 'NOUN', 'PUNCT', 'VERB', 'DET', 'ADJ', 'NOUN', 'VERB', 'ADP', 'DET', 'NOUN', 'PUNCT', 'VERB', 'DET', 'NOUN', 'NOUN', 'PUNCT', 'ADV', 'DET', 'NOUN', 'AUX', 'VERB', 'ADP', 'NOUN', 'NUM', 'ADP', 'DET', 'ADJ', 'NUM', 'VERB', 'PUNCT', 'ADJ', 'ADV', 'PART', 'VERB', 'DET', 'NOUN', 'ADP', 'PRON', 'NOUN', 'PUNCT'], ['PRON', 'AUX', 'VERB', 'ADP', 'DET', 'NOUN', 'NOUN', 'ADP', 'DET', 'NOUN', 'ADP', 'DET', 'NOUN', 'PUNCT', 'ADP', 'DET', 'DET', 'NOUN', 'VERB', 'ADV', 'ADP', 'DET', 'ADJ', 'PUNCT', 'ADJ', 'NOUN', 'PUNCT']], [['SCONJ', 'PROPN', 'VERB', 'ADP', 'DET', 'NOUN', 'CONJ', 'VERB', 'ADP', 'PUNCT', 'PRON', 'AUX', 'VERB', 'NOUN', 'CONJ', 'DET', 'ADJ', 'ADJ', 'NOUN', 'ADP', 'DET', 'NOUN', 'PUNCT'], ['ADV', 'DET', 'NOUN', 'CONJ', 'DET', 'NOUN', 'VERB', 'DET', 'ADJ', 'NOUN', 'ADP', 'ADJ', 'NOUN', 'DET', 'VERB', 'ADP', 'DET', 'NOUN', 'ADP', 'DET', 'NOUN', 'ADP', 'DET', 'NOUN', 'PUNCT'], ['DET', 'NOUN', 'AUX', 'VERB', 'DET', 'VERB', 'NOUN', 'ADP', 'DET', 'NOUN', 'NOUN', 'PUNCT', 'ADP', 'ADJ', 'NOUN', 'VERB', 'ADP', 'PRON', 'PUNCT'], ['ADV', 'DET', 'NOUN', 'VERB', 'PART', 'ADJ', 'PUNCT', 'ADP', 'DET', 'NOUN', 'AUX', 'VERB', 'DET', 'NOUN', 'ADP', 'DET', 'ADJ', 'NOUN', 'SCONJ', 'PRON', 'VERB', 'DET', 'ADJ', 'ADJ', 'NOUN', 'PART', 'AUX', 'VERB', 'ADV', 'PUNCT'], ['ADV', 'DET', 'NOUN', 'AUX', 'AUX', 'VERB', 'PUNCT', 'CONJ', 'DET', 'NOUN', 'PUNCT', 'DET', 'NOUN', 'CONJ', 'DET', 'NOUN', 'VERB', 'PRON', 'ADV', 'PUNCT', 'CONJ', 'ADV', 'DET', 'NOUN', 'VERB', 'ADV', 'ADJ', 'CONJ', 'VERB', 'ADP', 'NOUN', 'ADJ', 'PUNCT']], [['ADV', 'NOUN', 'PROPN', 'VERB', 'ADV', 'PART', 'VERB', 'PRON', 'VERB', 'DET', 'ADJ', 'PUNCT', 'ADJ', 'NOUN', 'PUNCT'], ['DET', 'NOUN', 'CONJ', 'NOUN', 'AUX', 'VERB', 'PRON', 'PUNCT', 'ADV', 'PUNCT'], ['PRON', 'AUX', 'VERB', 'DET', 'NOUN', 'ADP', 'PRON', 'NOUN', 'CONJ', 'VERB', 'PRON', 'DET', 'ADJ', 'NOUN', 'PUNCT', 'PRON', 'AUX', 'VERB', 'DET', 'NOUN', 'ADP', 'PRON', 'NOUN', 'CONJ', 'NOUN', 'PUNCT', 'CONJ', 'PRON', 'VERB', 'ADJ', 'ADV', 'PUNCT'], ['PRON', 'VERB', 'ADJ', 'CONJ', 'PROPN', 'PUNCT', 'CONJ', 'ADV', 'VERB', 'ADV', 'PUNCT'], ['SCONJ', 'PROPN', 'PUNCT', 'PRON', 'VERB', 'DET', 'NOUN', 'PUNCT', 'ADV', 'VERB', 'ADP', 'PRON', 'PUNCT', 'NOUN', 'PROPN', 'AUX', 'AUX', 'ADV', 'ADJ', 'ADP', 'DET', 'NUM', 'NOUN', 'SCONJ', 'PRON', 'AUX', 'VERB', 'CONJ', 'VERB', 'PRON', 'NOUN', 'ADP', 'PRON', 'NOUN', 'SCONJ', 'NUM', 'NOUN', 'NOUN', 'VERB', 'PRON', 'NOUN', 'PUNCT', 'CONJ', 'PRON', 'ADV', 'VERB', 'ADP', 'DET', 'ADJ', 'NOUN', 'ADP', 'VERB', 'SCONJ', 'PRON', 'AUX', 'VERB', 'NOUN', 'PART', 'VERB', 'ADP', 'PUNCT']]]\n"
     ]
    }
   ],
   "source": [
    "mor_sentence_list = [ ]\n",
    "mor_paragrah_list = [ ]\n",
    "\n",
    "for paragraph in pragraph_split_list:\n",
    "    \n",
    "    temp_mor_paragrah_list = [ ]\n",
    "    for sentence in paragraph:\n",
    "        tokens = Text(sentence)\n",
    "        \n",
    "        temp_mor_sentence_list = [ ]\n",
    "        for token in tokens.pos_tags:\n",
    "            temp_mor_sentence_list.append(token[1])\n",
    "        \n",
    "        mor_sentence_list = temp_mor_sentence_list\n",
    "#         print(mor_sentence_list, len(mor_sentence_list))\n",
    "            \n",
    "        temp_mor_paragrah_list.append(mor_sentence_list)\n",
    "        \n",
    "    mor_paragrah_list.append(temp_mor_paragrah_list)\n",
    "    \n",
    "    \n",
    "print(mor_paragrah_list)\n",
    "    \n",
    "# arr_morpheme = np.array(mor_paragrah_list)\n",
    "\n",
    "# np.set_printoptions(threshold=np.inf)     #printを省略しない\n",
    "\n",
    "# print(arr_morpheme)\n",
    "        \n",
    "        \n",
    "        \n",
    "\n",
    "# tokens = Text(contents)\n",
    "\n",
    "# morpheme_list = [ ]\n",
    "\n",
    "# for token in tokens.pos_tags:\n",
    "#     morpheme_list.append(token[1])\n",
    "\n",
    "# print(morpheme_list)"
   ]
  },
  {
   "cell_type": "code",
   "execution_count": 32,
   "metadata": {},
   "outputs": [
    {
     "name": "stdout",
     "output_type": "stream",
     "text": [
      "[list([1, 2, 3]) list([4, 5])]\n"
     ]
    }
   ],
   "source": [
    "vec2 = np.array([[1,2,3],[4,5]])\n",
    "print(vec2)"
   ]
  },
  {
   "cell_type": "code",
   "execution_count": null,
   "metadata": {},
   "outputs": [],
   "source": []
  }
 ],
 "metadata": {
  "kernelspec": {
   "display_name": "Python 3",
   "language": "python",
   "name": "python3"
  },
  "language_info": {
   "codemirror_mode": {
    "name": "ipython",
    "version": 3
   },
   "file_extension": ".py",
   "mimetype": "text/x-python",
   "name": "python",
   "nbconvert_exporter": "python",
   "pygments_lexer": "ipython3",
   "version": "3.8.3"
  }
 },
 "nbformat": 4,
 "nbformat_minor": 4
}
