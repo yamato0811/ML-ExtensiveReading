{
 "cells": [
  {
   "cell_type": "markdown",
   "metadata": {},
   "source": [
    "# モジュール"
   ]
  },
  {
   "cell_type": "code",
   "execution_count": 1,
   "metadata": {},
   "outputs": [],
   "source": [
    "from polyglot.text import Text   #形態素解析\n",
    "\n",
    "from nltk.tokenize import sent_tokenize\n",
    "\n",
    "import re  #正規表現"
   ]
  },
  {
   "cell_type": "markdown",
   "metadata": {},
   "source": [
    "# 文章の整形"
   ]
  },
  {
   "cell_type": "code",
   "execution_count": 2,
   "metadata": {},
   "outputs": [
    {
     "name": "stdout",
     "output_type": "stream",
     "text": [
      "\n",
      "[['Dorothy lived in the midst of the great Kansas prairies, with Uncle Henry, who was a farmer, and Aunt Em, who was the farmer’s wife.', 'Their house was small, for the lumber to build it had to be carried by wagon many miles.', 'There were four walls, a floor and a roof, which made one room; and this room contained a rusty looking cookstove, a cupboard for the dishes, a table, three or four chairs, and the beds.', 'Uncle Henry and Aunt Em had a big bed in one corner, and Dorothy a little bed in another corner.', 'There was no garret at all, and no cellar—except a small hole dug in the ground, called a cyclone cellar, where the family could go in case one of those great whirlwinds arose, mighty enough to crush any building in its path.', 'It was reached by a trap door in the middle of the floor, from which a ladder led down into the small, dark hole.'], ['When Dorothy stood in the doorway and looked around, she could see nothing but the great gray prairie on every side.', 'Not a tree nor a house broke the broad sweep of flat country that reached to the edge of the sky in all directions.', 'The sun had baked the plowed land into a gray mass, with little cracks running through it.', 'Even the grass was not green, for the sun had burned the tops of the long blades until they were the same gray color to be seen everywhere.', 'Once the house had been painted, but the sun blistered the paint and the rains washed it away, and now the house was as dull and gray as everything else.'], ['When Aunt Em came there to live she was a young, pretty wife.', 'The sun and wind had changed her, too.', 'They had taken the sparkle from her eyes and left them a sober gray; they had taken the red from her cheeks and lips, and they were gray also.', 'She was thin and gaunt, and never smiled now.', 'When Dorothy, who was an orphan, first came to her, Aunt Em had been so startled by the child’s laughter that she would scream and press her hand upon her heart whenever Dorothy’s merry voice reached her ears; and she still looked at the little girl with wonder that she could find anything to laugh at.']]\n"
     ]
    }
   ],
   "source": [
    "text = \"\"\"\\\n",
    "Dorothy lived in the midst of the great Kansas prairies, with Uncle\n",
    "Henry, who was a farmer, and Aunt Em, who was the farmer’s wife. Their\n",
    "house was small, for the lumber to build it had to be carried by wagon\n",
    "many miles. There were four walls, a floor and a roof, which made one\n",
    "room; and this room contained a rusty looking cookstove, a cupboard for\n",
    "the dishes, a table, three or four chairs, and the beds. Uncle Henry\n",
    "and Aunt Em had a big bed in one corner, and Dorothy a little bed in\n",
    "another corner. There was no garret at all, and no cellar—except a\n",
    "small hole dug in the ground, called a cyclone cellar, where the family\n",
    "could go in case one of those great whirlwinds arose, mighty enough to\n",
    "crush any building in its path. It was reached by a trap door in the\n",
    "middle of the floor, from which a ladder led down into the small, dark\n",
    "hole.\n",
    "\n",
    "When Dorothy stood in the doorway and looked around, she could see\n",
    "nothing but the great gray prairie on every side. Not a tree nor a\n",
    "house broke the broad sweep of flat country that reached to the edge of\n",
    "the sky in all directions. The sun had baked the plowed land into a\n",
    "gray mass, with little cracks running through it. Even the grass was\n",
    "not green, for the sun had burned the tops of the long blades until\n",
    "they were the same gray color to be seen everywhere. Once the house had\n",
    "been painted, but the sun blistered the paint and the rains washed it\n",
    "away, and now the house was as dull and gray as everything else.\n",
    "\n",
    "When Aunt Em came there to live she was a young, pretty wife. The sun\n",
    "and wind had changed her, too. They had taken the sparkle from her eyes\n",
    "and left them a sober gray; they had taken the red from her cheeks and\n",
    "lips, and they were gray also. She was thin and gaunt, and never smiled\n",
    "now. When Dorothy, who was an orphan, first came to her, Aunt Em had\n",
    "been so startled by the child’s laughter that she would scream and\n",
    "press her hand upon her heart whenever Dorothy’s merry voice reached\n",
    "her ears; and she still looked at the little girl with wonder that she\n",
    "could find anything to laugh at.\\\n",
    "\"\"\"\n",
    "\n",
    "text = re.sub(r'(?<!\\n)\\n(?!\\n)', ' ', text)    #1回の改行を削除\n",
    "\n",
    "paragraph_list = text.split(\"\\n\\n\")  #段落でリストに分割\n",
    "\n",
    "sentence_list = [ ]\n",
    "for paragrah in paragraph_list:\n",
    "    sentence_list.append(sent_tokenize(paragrah))     #1文に分割\n",
    "\n",
    "print()\n",
    "\n",
    "print (sentence_list)\n",
    "\n",
    "# for sentence in sentence_list:\n",
    "#     print (sentence)\n",
    "\n",
    "\n"
   ]
  },
  {
   "cell_type": "markdown",
   "metadata": {},
   "source": [
    "# 形態素解析"
   ]
  },
  {
   "cell_type": "code",
   "execution_count": 3,
   "metadata": {},
   "outputs": [
    {
     "ename": "NameError",
     "evalue": "name 'contents' is not defined",
     "output_type": "error",
     "traceback": [
      "\u001b[0;31m---------------------------------------------------------------------------\u001b[0m",
      "\u001b[0;31mNameError\u001b[0m                                 Traceback (most recent call last)",
      "\u001b[0;32m<ipython-input-3-2c3dda75cbc3>\u001b[0m in \u001b[0;36m<module>\u001b[0;34m\u001b[0m\n\u001b[0;32m----> 1\u001b[0;31m \u001b[0mtokens\u001b[0m \u001b[0;34m=\u001b[0m \u001b[0mText\u001b[0m\u001b[0;34m(\u001b[0m\u001b[0mcontents\u001b[0m\u001b[0;34m)\u001b[0m\u001b[0;34m\u001b[0m\u001b[0;34m\u001b[0m\u001b[0m\n\u001b[0m\u001b[1;32m      2\u001b[0m \u001b[0;32mfor\u001b[0m \u001b[0mtoken\u001b[0m \u001b[0;32min\u001b[0m \u001b[0mtokens\u001b[0m\u001b[0;34m.\u001b[0m\u001b[0mpos_tags\u001b[0m\u001b[0;34m:\u001b[0m\u001b[0;34m\u001b[0m\u001b[0;34m\u001b[0m\u001b[0m\n\u001b[1;32m      3\u001b[0m     \u001b[0mprint\u001b[0m\u001b[0;34m(\u001b[0m\u001b[0mtoken\u001b[0m\u001b[0;34m)\u001b[0m\u001b[0;34m\u001b[0m\u001b[0;34m\u001b[0m\u001b[0m\n",
      "\u001b[0;31mNameError\u001b[0m: name 'contents' is not defined"
     ]
    }
   ],
   "source": [
    "tokens = Text(contents)\n",
    "for token in tokens.pos_tags:\n",
    "    print(token)"
   ]
  }
 ],
 "metadata": {
  "kernelspec": {
   "display_name": "Python 3",
   "language": "python",
   "name": "python3"
  },
  "language_info": {
   "codemirror_mode": {
    "name": "ipython",
    "version": 3
   },
   "file_extension": ".py",
   "mimetype": "text/x-python",
   "name": "python",
   "nbconvert_exporter": "python",
   "pygments_lexer": "ipython3",
   "version": "3.8.3"
  }
 },
 "nbformat": 4,
 "nbformat_minor": 4
}
